{
 "cells": [
  {
   "cell_type": "markdown",
   "metadata": {},
   "source": [
    "# What drives the price of a car?\n",
    "\n",
    "![](images/kurt.jpeg)"
   ]
  },
  {
   "cell_type": "markdown",
   "metadata": {},
   "source": [
    "**OVERVIEW**\n",
    "\n",
    "In this application, you will explore a dataset from Kaggle. The original dataset contained information on 3 million used cars. The provided dataset contains information on 426K cars to ensure speed of processing.  Your goal is to understand what factors make a car more or less expensive.  As a result of your analysis, you should provide clear recommendations to your client -- a used car dealership -- as to what consumers value in a used car."
   ]
  },
  {
   "cell_type": "markdown",
   "metadata": {},
   "source": [
    "### CRISP-DM Framework\n",
    "\n",
    "<center>\n",
    "    <img src = images/crisp.png width = 50%/>\n",
    "</center>\n",
    "\n",
    "\n",
    "To frame the task, throughout our practical applications, we will refer back to a standard process in industry for data projects called CRISP-DM.  This process provides a framework for working through a data problem.  Your first step in this application will be to read through a brief overview of CRISP-DM [here](https://mo-pcco.s3.us-east-1.amazonaws.com/BH-PCMLAI/module_11/readings_starter.zip).  After reading the overview, answer the questions below."
   ]
  },
  {
   "cell_type": "markdown",
   "metadata": {},
   "source": [
    "### Business Understanding\n",
    "\n",
    "From a business perspective, we are tasked with identifying key drivers for used car prices.  In the CRISP-DM overview, we are asked to convert this business framing to a data problem definition.  Using a few sentences, reframe the task as a data task with the appropriate technical vocabulary. "
   ]
  },
  {
   "cell_type": "markdown",
   "metadata": {},
   "source": [
    "# Required Assignment 11: What drives the car price? \\n\",\n",
    "## Using data from the Kaggle identifying the reason for the change in the car price\n",
    "\n",
    "***This activity focuses on producing the plots using the above mentioned dataset to support my findings***"
   ]
  },
  {
   "cell_type": "markdown",
   "metadata": {},
   "source": [
    "### Importing necessary libraries"
   ]
  },
  {
   "cell_type": "code",
   "execution_count": 1,
   "metadata": {},
   "outputs": [],
   "source": [
    "import pandas as pd\n",
    "import plotly.express as px\n",
    "import numpy as np\n",
    "import seaborn as sns\n",
    "import matplotlib.pyplot as plt"
   ]
  },
  {
   "cell_type": "markdown",
   "metadata": {},
   "source": [
    "### Loading data"
   ]
  },
  {
   "cell_type": "code",
   "execution_count": 2,
   "metadata": {},
   "outputs": [],
   "source": [
    "dfcarprice = pd.read_csv(\"data/vehicles.csv\")"
   ]
  },
  {
   "cell_type": "markdown",
   "metadata": {},
   "source": [
    "## Assignment Objectives\n",
    "  Identifying the most probable reason that drives the car price using CRISP-DM process.\n",
    "  \n",
    "## Assessment of Data\n",
    "  Provided data from car delaership contains used Car price from different Regions for\n",
    "  various manufacturers, car details like models with year, Cylinders,odometer and condition.\n",
    "  \n",
    "  At First look many of the data seems to be null, so , we may not be able to use all the features effectively.\n",
    "  ### Risks and benefits\n",
    "  As this limited data will be used for analysis , it pose a risk of providing wrong assesssment to the car dealers.\n",
    "  As the benefit, we will be able to use modeling techinques and try to come up with other possible results to analyze further.\n"
   ]
  },
  {
   "cell_type": "markdown",
   "metadata": {},
   "source": [
    "### verifying "
   ]
  },
  {
   "cell_type": "code",
   "execution_count": 3,
   "metadata": {},
   "outputs": [],
   "source": [
    "#print(dfcarprice.info)"
   ]
  },
  {
   "cell_type": "markdown",
   "metadata": {},
   "source": [
    "### Data Understanding\n",
    "\n",
    "After considering the business understanding, we want to get familiar with our data.  Write down some steps that you would take to get to know the dataset and identify any quality issues within.  Take time to get to know the dataset and explore what information it contains and how this could be used to inform your business understanding."
   ]
  },
  {
   "cell_type": "markdown",
   "metadata": {},
   "source": [
    "### Using the provided data, \n",
    "    1. Verify and clean Data\n",
    "    2. Cleanup all null values\n",
    "    3. Identify features to use with modeling and their correlation to the price variation\n",
    "   "
   ]
  },
  {
   "cell_type": "code",
   "execution_count": 4,
   "metadata": {},
   "outputs": [],
   "source": [
    "\n",
    "#print(dfcarprice)\n",
    "\n",
    "price_counts = pd.DataFrame(dfcarprice['price'])\n",
    "\n",
    "price_counts['price_cnt'] = dfcarprice['price'].value_counts()\n",
    "low_count_items = price_counts[price_counts['price_cnt'] < 3]\n",
    "#print(low_count_items)\n",
    "remove_lst = low_count_items['price'].tolist()\n",
    "dfcarprice_filtrd = dfcarprice[~dfcarprice['price'].isin(remove_lst)]\n",
    "#print(dfcarprice_filtrd)\n",
    "#dfcarprice_filtrd_srtd = dfcarprice_filtrd.sort_values(by=['price'],ascending=[True])\n",
    "\n",
    "#print(dfcarprice_filtrd)\n",
    "#dfcarprice_filtrd_srtd = dfcarprice_filtrd_srtd.set_index('price')\n",
    "#print(dfcarprice)"
   ]
  },
  {
   "cell_type": "code",
   "execution_count": 5,
   "metadata": {},
   "outputs": [],
   "source": [
    "\n",
    "dfcarprice_filtrd_srtd =dfcarprice_filtrd.groupby(['region','manufacturer','model','year']).filter(lambda x: len(x) >= 2)\n",
    "dfcarprice_filtrd_srtd =dfcarprice_filtrd.groupby(['region','manufacturer']).filter(lambda x: len(x) >= 2)\n",
    "\n",
    "#print(dfcarprice_filtrd_srtd)"
   ]
  },
  {
   "cell_type": "code",
   "execution_count": 6,
   "metadata": {},
   "outputs": [],
   "source": [
    "dfcarprice_filtrd_srtd =dfcarprice_filtrd_srtd.groupby(['region','price','manufacturer','model','year']).filter(lambda x: len(x) >= 3)"
   ]
  },
  {
   "cell_type": "code",
   "execution_count": 7,
   "metadata": {},
   "outputs": [
    {
     "name": "stdout",
     "output_type": "stream",
     "text": [
      "                id      region  price    year manufacturer             model  \\\n",
      "186     7316852517  birmingham  21250  2002.0         ford       thunderbird   \n",
      "214     7316535686  birmingham   3399  2006.0        buick          lacrosse   \n",
      "247     7316163074  birmingham  16902  2020.0       toyota           corolla   \n",
      "248     7316163069  birmingham  12307  2018.0          kia              soul   \n",
      "316     7315498556  birmingham   4980  2010.0    chevrolet          traverse   \n",
      "...            ...         ...    ...     ...          ...               ...   \n",
      "425423  7309190449   sheboygan  28899  2017.0         ford              edge   \n",
      "425498  7304111722   sheboygan  28899  2017.0         ford              edge   \n",
      "425597  7316813658      wausau  33480  2017.0    chevrolet  silverado 2500hd   \n",
      "425891  7310439607      wausau  33480  2017.0    chevrolet  silverado 2500hd   \n",
      "426248  7302148581      wausau  33480  2017.0    chevrolet  silverado 2500hd   \n",
      "\n",
      "        condition    cylinders fuel  odometer title_status transmission  \\\n",
      "186           new  8 cylinders  gas   15996.0        clean    automatic   \n",
      "214           NaN  6 cylinders  gas  160218.0        clean    automatic   \n",
      "247           NaN          NaN  gas   11692.0        clean    automatic   \n",
      "248           NaN          NaN  gas   95056.0        clean    automatic   \n",
      "316           NaN  6 cylinders  gas  208122.0          NaN       manual   \n",
      "...           ...          ...  ...       ...          ...          ...   \n",
      "425423        NaN          NaN  gas   26003.0        clean    automatic   \n",
      "425498        NaN          NaN  gas   26003.0        clean    automatic   \n",
      "425597  excellent  8 cylinders  gas  103026.0        clean    automatic   \n",
      "425891  excellent  8 cylinders  gas  103026.0        clean    automatic   \n",
      "426248  excellent  8 cylinders  gas  103026.0        clean    automatic   \n",
      "\n",
      "                      VIN drive     size         type paint_color state  \n",
      "186                   NaN   fwd  compact  convertible      yellow    al  \n",
      "214     2G4WD582061211256   fwd      NaN        sedan        blue    al  \n",
      "247     5YFDPRAE6LP106166   fwd      NaN          NaN       black    al  \n",
      "248     KNDJP3A58J7592011   fwd      NaN          NaN         red    al  \n",
      "316     1GNLVEED4AS107976   rwd      NaN          SUV      silver    al  \n",
      "...                   ...   ...      ...          ...         ...   ...  \n",
      "425423  2FMPK4K84HBB85453   NaN      NaN          NaN       white    wi  \n",
      "425498  2FMPK4K84HBB85453   NaN      NaN          NaN       white    wi  \n",
      "425597  1GC2KVEG6HZ379888   4wd      NaN          NaN       white    wi  \n",
      "425891  1GC2KVEG6HZ379888   4wd      NaN          NaN       white    wi  \n",
      "426248  1GC2KVEG6HZ379888   4wd      NaN          NaN       white    wi  \n",
      "\n",
      "[7463 rows x 18 columns]\n"
     ]
    }
   ],
   "source": [
    "print(dfcarprice_filtrd_srtd)"
   ]
  },
  {
   "cell_type": "code",
   "execution_count": 8,
   "metadata": {},
   "outputs": [],
   "source": [
    "#dfcarprice_filtrd_srtd = dfcarprice_filtrd_srtd.set_index('price')\n",
    "dfcarprice_filtrd_srtd = dfcarprice_filtrd_srtd.dropna()\n",
    "\n"
   ]
  },
  {
   "cell_type": "markdown",
   "metadata": {},
   "source": [
    "### Data Preparation\n",
    "\n",
    "After our initial exploration and fine-tuning of the business understanding, it is time to construct our final dataset prior to modeling.  Here, we want to make sure to handle any integrity issues and cleaning, the engineering of new features, any transformations that we believe should happen (scaling, logarithms, normalization, etc.), and general preparation for modeling with `sklearn`. "
   ]
  },
  {
   "cell_type": "markdown",
   "metadata": {},
   "source": [
    "### Trasform all columns with categories into numeric using the 'factorize()'"
   ]
  },
  {
   "cell_type": "code",
   "execution_count": 9,
   "metadata": {},
   "outputs": [],
   "source": [
    "#dfcarprice_filtrd_srtd['region_n'] = pd.to_numeric(pd.factorize(dfcarprice_filtrd_srtd['region'])[0])\n",
    "#dfcarprice_filtrd_srtd['manufacturer_n'] = pd.to_numeric(pd.factorize(dfcarprice_filtrd_srtd['manufacturer'])[0])\n",
    "#dfcarprice_filtrd_srtd['model_n'] = pd.to_numeric(pd.factorize(dfcarprice_filtrd_srtd['model'])[0])\n",
    "#dfcarprice_filtrd_srtd['condition_n'] = pd.to_numeric(pd.factorize(dfcarprice_filtrd_srtd['condition'])[0])\n",
    "#dfcarprice_filtrd_srtd['cylinders'] = dfcarprice_filtrd_srtd['cylinders'].str.replace(r'[^\\d.]', '', regex=True)\n",
    "#dfcarprice_filtrd_srtd['cylinders_n'] = pd.to_numeric(pd.factorize(dfcarprice_filtrd_srtd['cylinders'])[0])"
   ]
  },
  {
   "cell_type": "code",
   "execution_count": 10,
   "metadata": {},
   "outputs": [],
   "source": [
    "#print(dfcarprice_filtrd_srtd)"
   ]
  },
  {
   "cell_type": "raw",
   "metadata": {},
   "source": [
    "### Verified data whenever <u>there is a change in price</u> using Seaborns Joint plot correlation to different factors that affect the price.\n",
    "Tried  sns.jointplot(dfcarprice,x='region_n',y='price',kind='kde')\n",
    "then switched to  sns.jointplot(dfcarprice_filtrd_srtd,x='region_n',y='price',kind='hist',hue='region',height=12)"
   ]
  },
  {
   "cell_type": "code",
   "execution_count": 11,
   "metadata": {},
   "outputs": [],
   "source": [
    "#sns.jointplot(dfcarprice_filtrd_srtd,x='region_n',y='price',kind='hist',hue='region',height=12)"
   ]
  },
  {
   "cell_type": "code",
   "execution_count": 12,
   "metadata": {
    "scrolled": true
   },
   "outputs": [],
   "source": [
    "#sns.relplot(\n",
    "#    data=dfcarprice_filtrd_srtd,\n",
    "#  x='region_n',\n",
    "#    y='price',\n",
    "#    col='manufacturer',  # Separate plots for each manufacturer\n",
    "#    hue='model',         # Different colors for each model within a manufacturer\n",
    "#    style='year',        # Different markers for each year\n",
    "#    kind='scatter',      # Use scatter plot for individual points\n",
    "#    col_wrap=1,          # Wrap columns after 2 plots for better layout\n",
    "#    height=5,            # Height of each facet\n",
    "#    aspect=1.5           # Aspect ratio of each facet\n",
    "#)\n",
    "\n",
    "#plt.suptitle('Price by Region, Manufacturer, Model, and Year', y=1.02)\n",
    "#plt.tight_layout(rect=[0, 0, 1, 0.98]) # Adjusted layout to prevent title overlap\n",
    "#plt.show()"
   ]
  },
  {
   "cell_type": "markdown",
   "metadata": {},
   "source": [
    "### Standard Transformation of Data"
   ]
  },
  {
   "cell_type": "code",
   "execution_count": 13,
   "metadata": {},
   "outputs": [],
   "source": [
    "dfcarprice_filtrd_srtd.index.name='id'\n",
    "#print(dfcarprice_filtrd_srtd)"
   ]
  },
  {
   "cell_type": "code",
   "execution_count": 14,
   "metadata": {},
   "outputs": [],
   "source": [
    "from sklearn.preprocessing import OneHotEncoder\n",
    "encoder = OneHotEncoder(handle_unknown='ignore')\n",
    "categorical_features = ['region','manufacturer','model','year','condition','cylinders','fuel','title_status','transmission','drive','size','type', 'paint_color', 'state']\n",
    "numerical_dfcarprice = dfcarprice_filtrd_srtd.drop(columns=categorical_features)\n",
    "\n",
    "# Fit the encoder to the categorical data and transform it\n",
    "encoded_features = encoder.fit_transform(dfcarprice_filtrd_srtd[categorical_features])\n",
    "\n",
    "# Convert the output to a DataFrame with clear column names\n",
    "encoded_dfcarprice = pd.DataFrame(encoded_features.toarray(), \n",
    "                          columns=encoder.get_feature_names_out(categorical_features))\n",
    "#print(\"\\nEncoded DataFrame:\\n\", encoded_dfcarprice)\n",
    "\n",
    "dfcarprice_encoded_all = pd.concat([numerical_dfcarprice,encoded_dfcarprice],axis=1)\n"
   ]
  },
  {
   "cell_type": "code",
   "execution_count": 15,
   "metadata": {},
   "outputs": [
    {
     "name": "stdout",
     "output_type": "stream",
     "text": [
      "\n",
      "Encoded DataFrame:\n",
      " Index(['id', 'price', 'odometer', 'VIN', 'region_anchorage / mat-su',\n",
      "       'region_asheville', 'region_baltimore', 'region_battle creek',\n",
      "       'region_billings', 'region_boise',\n",
      "       ...\n",
      "       'state_nj', 'state_nv', 'state_ny', 'state_oh', 'state_sc', 'state_tn',\n",
      "       'state_tx', 'state_va', 'state_vt', 'state_wi'],\n",
      "      dtype='object', length=271)\n"
     ]
    }
   ],
   "source": [
    "#print(\"\\nEncoded DataFrame:\\n\", dfcarprice_encoded_all)\n",
    "print(\"\\nEncoded DataFrame:\\n\", dfcarprice_encoded_all.columns)"
   ]
  },
  {
   "cell_type": "code",
   "execution_count": 16,
   "metadata": {},
   "outputs": [
    {
     "data": {
      "text/html": [
       "<div>\n",
       "<style scoped>\n",
       "    .dataframe tbody tr th:only-of-type {\n",
       "        vertical-align: middle;\n",
       "    }\n",
       "\n",
       "    .dataframe tbody tr th {\n",
       "        vertical-align: top;\n",
       "    }\n",
       "\n",
       "    .dataframe thead th {\n",
       "        text-align: right;\n",
       "    }\n",
       "</style>\n",
       "<table border=\"1\" class=\"dataframe\">\n",
       "  <thead>\n",
       "    <tr style=\"text-align: right;\">\n",
       "      <th></th>\n",
       "      <th>id</th>\n",
       "      <th>price</th>\n",
       "      <th>odometer</th>\n",
       "      <th>VIN</th>\n",
       "      <th>region_anchorage / mat-su</th>\n",
       "      <th>region_asheville</th>\n",
       "      <th>region_baltimore</th>\n",
       "      <th>region_battle creek</th>\n",
       "      <th>region_billings</th>\n",
       "      <th>region_boise</th>\n",
       "      <th>...</th>\n",
       "      <th>state_nj</th>\n",
       "      <th>state_nv</th>\n",
       "      <th>state_ny</th>\n",
       "      <th>state_oh</th>\n",
       "      <th>state_sc</th>\n",
       "      <th>state_tn</th>\n",
       "      <th>state_tx</th>\n",
       "      <th>state_va</th>\n",
       "      <th>state_vt</th>\n",
       "      <th>state_wi</th>\n",
       "    </tr>\n",
       "  </thead>\n",
       "  <tbody>\n",
       "  </tbody>\n",
       "</table>\n",
       "<p>0 rows × 271 columns</p>\n",
       "</div>"
      ],
      "text/plain": [
       "Empty DataFrame\n",
       "Columns: [id, price, odometer, VIN, region_anchorage / mat-su, region_asheville, region_baltimore, region_battle creek, region_billings, region_boise, region_brownsville, region_buffalo, region_central NJ, region_charleston, region_charlotte, region_cleveland, region_columbus, region_corpus christi, region_denver, region_fayetteville, region_fort collins / north CO, region_ft myers / SW florida, region_greensboro, region_greenville / upstate, region_hawaii, region_indianapolis, region_jacksonville, region_kalispell, region_knoxville, region_las vegas, region_long island, region_louisville, region_madison, region_missoula, region_modesto, region_myrtle beach, region_nashville, region_ocala, region_orlando, region_palm springs, region_raleigh / durham / CH, region_redding, region_roanoke, region_rochester, region_san diego, region_sarasota-bradenton, region_south bend / michiana, region_south florida, region_south jersey, region_southwest VA, region_space coast, region_springfield, region_st augustine, region_st joseph, region_stockton, region_tampa bay area, region_treasure coast, region_valdosta, region_ventura county, region_vermont, region_wilmington, region_winchester, region_winston-salem, manufacturer_audi, manufacturer_buick, manufacturer_cadillac, manufacturer_chevrolet, manufacturer_dodge, manufacturer_ford, manufacturer_gmc, manufacturer_honda, manufacturer_hyundai, manufacturer_infiniti, manufacturer_jeep, manufacturer_lexus, manufacturer_lincoln, manufacturer_mercedes-benz, manufacturer_mitsubishi, manufacturer_nissan, manufacturer_porsche, manufacturer_ram, manufacturer_subaru, manufacturer_toyota, manufacturer_volkswagen, model_1500, model_1500 reg cab st, model_1500 slt, model_2500 4x4 megacab, model_350z convertible, model_a5, model_accord cpe, model_altima s 2.5, model_boxster, model_bus, model_camry, model_cherokee, model_civic sedan, model_corvette, model_cr-v, model_e-150, ...]\n",
       "Index: []\n",
       "\n",
       "[0 rows x 271 columns]"
      ]
     },
     "execution_count": 16,
     "metadata": {},
     "output_type": "execute_result"
    }
   ],
   "source": [
    "dfcarprice_encoded_all.dropna()"
   ]
  },
  {
   "cell_type": "code",
   "execution_count": null,
   "metadata": {},
   "outputs": [],
   "source": []
  },
  {
   "cell_type": "markdown",
   "metadata": {},
   "source": [
    "### Modeling\n",
    "\n",
    "With your (almost?) final dataset in hand, it is now time to build some models.  Here, you should build a number of different regression models with the price as the target.  In building your models, you should explore different parameters and be sure to cross-validate your findings."
   ]
  },
  {
   "cell_type": "code",
   "execution_count": 17,
   "metadata": {},
   "outputs": [],
   "source": [
    "X = dfcarprice_encoded_all.drop(['price','VIN'], axis=1)\n",
    "y = dfcarprice_encoded_all['price']\n",
    "\n",
    "y = y.fillna(y.mode()[0])\n",
    "X = X.fillna(0)"
   ]
  },
  {
   "cell_type": "code",
   "execution_count": 18,
   "metadata": {},
   "outputs": [],
   "source": [
    "carfeature_sets = [\n",
    "    [col for col in X.columns if 'model' in col or'year' in col or 'cylinders' in col ],\n",
    "    [col for col in X.columns if 'year' in col or 'cylinders' in col or 'transmission_manual'in col ],\n",
    "    [col for col in X.columns if 'region' in col or 'manufacturer' in col], # Example: all region/manufacturer features\n",
    "    X.columns.tolist() # All features\n",
    "]"
   ]
  },
  {
   "cell_type": "code",
   "execution_count": 19,
   "metadata": {},
   "outputs": [
    {
     "name": "stdout",
     "output_type": "stream",
     "text": [
      "[['model_1500', 'model_1500 reg cab st', 'model_1500 slt', 'model_2500 4x4 megacab', 'model_350z convertible', 'model_a5', 'model_accord cpe', 'model_altima s 2.5', 'model_boxster', 'model_bus', 'model_camry', 'model_cherokee', 'model_civic sedan', 'model_corvette', 'model_cr-v', 'model_e-150', 'model_e-150 transit', 'model_e-class', 'model_e350 econoline cargo', 'model_edge 4dr se', 'model_edge sel', 'model_elantra', 'model_enclave', 'model_equinox', 'model_es350', 'model_escape', 'model_escape xls', 'model_express 3500', 'model_f-150', 'model_f-150 4x4 supercab', 'model_f-150 xlt', 'model_f150 supercab stx 4x4', 'model_f150 supercrew fx4', 'model_f150 xlt 4x4', 'model_f150 xlt supercrew 4x4', 'model_f250 super duty', 'model_f250sd', 'model_f350 super duty', 'model_f450sd', 'model_fiesta se', 'model_forester', 'model_frontier king cab sv', 'model_fusion sel', 'model_gl-class', 'model_gls550', 'model_grand caravan', 'model_grand cherokee', 'model_grand cherokee limited', 'model_gti', 'model_highlander', 'model_impala', 'model_impreza', 'model_is 250', 'model_journey', 'model_kona', 'model_land cruiser', 'model_leaf s hatchback 4d', 'model_liberty 4x4', 'model_mkz', 'model_mustang', 'model_outback', 'model_outlander', 'model_outlander sport', 'model_panamera turbo', 'model_pathfinder', 'model_pilot', 'model_q5', 'model_qx56', 'model_rav4', 'model_ridgeline', 'model_rogue', 'model_rogue sv', 'model_routan se', 'model_safari', 'model_savana cutaway', 'model_sentra', 'model_sentra sv sedan 4d', 'model_sierra 2500hd', 'model_silverado', 'model_silverado 1500 4x4', 'model_silverado 1500 lt 4x4', 'model_silverado 3500hd', 'model_srx', 'model_srx luxury collection', 'model_super duty f-250 srw', 'model_super duty f-350 srw', 'model_super duty f-550 drw', 'model_tacoma', 'model_tacoma sr5', 'model_terrain', 'model_titan', 'model_transit cargo van', 'model_traverse', 'model_tundra sr5 4x4', 'model_veloster', 'model_venza', 'model_wrangler', 'year_1997.0', 'year_2003.0', 'year_2004.0', 'year_2005.0', 'year_2006.0', 'year_2007.0', 'year_2008.0', 'year_2009.0', 'year_2010.0', 'year_2011.0', 'year_2012.0', 'year_2013.0', 'year_2014.0', 'year_2015.0', 'year_2016.0', 'year_2017.0', 'year_2018.0', 'year_2019.0', 'year_2020.0', 'year_2021.0', 'cylinders_10 cylinders', 'cylinders_4 cylinders', 'cylinders_6 cylinders', 'cylinders_8 cylinders', 'cylinders_other'], ['year_1997.0', 'year_2003.0', 'year_2004.0', 'year_2005.0', 'year_2006.0', 'year_2007.0', 'year_2008.0', 'year_2009.0', 'year_2010.0', 'year_2011.0', 'year_2012.0', 'year_2013.0', 'year_2014.0', 'year_2015.0', 'year_2016.0', 'year_2017.0', 'year_2018.0', 'year_2019.0', 'year_2020.0', 'year_2021.0', 'cylinders_10 cylinders', 'cylinders_4 cylinders', 'cylinders_6 cylinders', 'cylinders_8 cylinders', 'cylinders_other', 'transmission_manual'], ['region_anchorage / mat-su', 'region_asheville', 'region_baltimore', 'region_battle creek', 'region_billings', 'region_boise', 'region_brownsville', 'region_buffalo', 'region_central NJ', 'region_charleston', 'region_charlotte', 'region_cleveland', 'region_columbus', 'region_corpus christi', 'region_denver', 'region_fayetteville', 'region_fort collins / north CO', 'region_ft myers / SW florida', 'region_greensboro', 'region_greenville / upstate', 'region_hawaii', 'region_indianapolis', 'region_jacksonville', 'region_kalispell', 'region_knoxville', 'region_las vegas', 'region_long island', 'region_louisville', 'region_madison', 'region_missoula', 'region_modesto', 'region_myrtle beach', 'region_nashville', 'region_ocala', 'region_orlando', 'region_palm springs', 'region_raleigh / durham / CH', 'region_redding', 'region_roanoke', 'region_rochester', 'region_san diego', 'region_sarasota-bradenton', 'region_south bend / michiana', 'region_south florida', 'region_south jersey', 'region_southwest VA', 'region_space coast', 'region_springfield', 'region_st augustine', 'region_st joseph', 'region_stockton', 'region_tampa bay area', 'region_treasure coast', 'region_valdosta', 'region_ventura county', 'region_vermont', 'region_wilmington', 'region_winchester', 'region_winston-salem', 'manufacturer_audi', 'manufacturer_buick', 'manufacturer_cadillac', 'manufacturer_chevrolet', 'manufacturer_dodge', 'manufacturer_ford', 'manufacturer_gmc', 'manufacturer_honda', 'manufacturer_hyundai', 'manufacturer_infiniti', 'manufacturer_jeep', 'manufacturer_lexus', 'manufacturer_lincoln', 'manufacturer_mercedes-benz', 'manufacturer_mitsubishi', 'manufacturer_nissan', 'manufacturer_porsche', 'manufacturer_ram', 'manufacturer_subaru', 'manufacturer_toyota', 'manufacturer_volkswagen'], ['id', 'odometer', 'region_anchorage / mat-su', 'region_asheville', 'region_baltimore', 'region_battle creek', 'region_billings', 'region_boise', 'region_brownsville', 'region_buffalo', 'region_central NJ', 'region_charleston', 'region_charlotte', 'region_cleveland', 'region_columbus', 'region_corpus christi', 'region_denver', 'region_fayetteville', 'region_fort collins / north CO', 'region_ft myers / SW florida', 'region_greensboro', 'region_greenville / upstate', 'region_hawaii', 'region_indianapolis', 'region_jacksonville', 'region_kalispell', 'region_knoxville', 'region_las vegas', 'region_long island', 'region_louisville', 'region_madison', 'region_missoula', 'region_modesto', 'region_myrtle beach', 'region_nashville', 'region_ocala', 'region_orlando', 'region_palm springs', 'region_raleigh / durham / CH', 'region_redding', 'region_roanoke', 'region_rochester', 'region_san diego', 'region_sarasota-bradenton', 'region_south bend / michiana', 'region_south florida', 'region_south jersey', 'region_southwest VA', 'region_space coast', 'region_springfield', 'region_st augustine', 'region_st joseph', 'region_stockton', 'region_tampa bay area', 'region_treasure coast', 'region_valdosta', 'region_ventura county', 'region_vermont', 'region_wilmington', 'region_winchester', 'region_winston-salem', 'manufacturer_audi', 'manufacturer_buick', 'manufacturer_cadillac', 'manufacturer_chevrolet', 'manufacturer_dodge', 'manufacturer_ford', 'manufacturer_gmc', 'manufacturer_honda', 'manufacturer_hyundai', 'manufacturer_infiniti', 'manufacturer_jeep', 'manufacturer_lexus', 'manufacturer_lincoln', 'manufacturer_mercedes-benz', 'manufacturer_mitsubishi', 'manufacturer_nissan', 'manufacturer_porsche', 'manufacturer_ram', 'manufacturer_subaru', 'manufacturer_toyota', 'manufacturer_volkswagen', 'model_1500', 'model_1500 reg cab st', 'model_1500 slt', 'model_2500 4x4 megacab', 'model_350z convertible', 'model_a5', 'model_accord cpe', 'model_altima s 2.5', 'model_boxster', 'model_bus', 'model_camry', 'model_cherokee', 'model_civic sedan', 'model_corvette', 'model_cr-v', 'model_e-150', 'model_e-150 transit', 'model_e-class', 'model_e350 econoline cargo', 'model_edge 4dr se', 'model_edge sel', 'model_elantra', 'model_enclave', 'model_equinox', 'model_es350', 'model_escape', 'model_escape xls', 'model_express 3500', 'model_f-150', 'model_f-150 4x4 supercab', 'model_f-150 xlt', 'model_f150 supercab stx 4x4', 'model_f150 supercrew fx4', 'model_f150 xlt 4x4', 'model_f150 xlt supercrew 4x4', 'model_f250 super duty', 'model_f250sd', 'model_f350 super duty', 'model_f450sd', 'model_fiesta se', 'model_forester', 'model_frontier king cab sv', 'model_fusion sel', 'model_gl-class', 'model_gls550', 'model_grand caravan', 'model_grand cherokee', 'model_grand cherokee limited', 'model_gti', 'model_highlander', 'model_impala', 'model_impreza', 'model_is 250', 'model_journey', 'model_kona', 'model_land cruiser', 'model_leaf s hatchback 4d', 'model_liberty 4x4', 'model_mkz', 'model_mustang', 'model_outback', 'model_outlander', 'model_outlander sport', 'model_panamera turbo', 'model_pathfinder', 'model_pilot', 'model_q5', 'model_qx56', 'model_rav4', 'model_ridgeline', 'model_rogue', 'model_rogue sv', 'model_routan se', 'model_safari', 'model_savana cutaway', 'model_sentra', 'model_sentra sv sedan 4d', 'model_sierra 2500hd', 'model_silverado', 'model_silverado 1500 4x4', 'model_silverado 1500 lt 4x4', 'model_silverado 3500hd', 'model_srx', 'model_srx luxury collection', 'model_super duty f-250 srw', 'model_super duty f-350 srw', 'model_super duty f-550 drw', 'model_tacoma', 'model_tacoma sr5', 'model_terrain', 'model_titan', 'model_transit cargo van', 'model_traverse', 'model_tundra sr5 4x4', 'model_veloster', 'model_venza', 'model_wrangler', 'year_1997.0', 'year_2003.0', 'year_2004.0', 'year_2005.0', 'year_2006.0', 'year_2007.0', 'year_2008.0', 'year_2009.0', 'year_2010.0', 'year_2011.0', 'year_2012.0', 'year_2013.0', 'year_2014.0', 'year_2015.0', 'year_2016.0', 'year_2017.0', 'year_2018.0', 'year_2019.0', 'year_2020.0', 'year_2021.0', 'condition_excellent', 'condition_good', 'condition_like new', 'condition_new', 'cylinders_10 cylinders', 'cylinders_4 cylinders', 'cylinders_6 cylinders', 'cylinders_8 cylinders', 'cylinders_other', 'fuel_diesel', 'fuel_electric', 'fuel_gas', 'title_status_clean', 'title_status_rebuilt', 'transmission_automatic', 'transmission_manual', 'transmission_other', 'drive_4wd', 'drive_fwd', 'drive_rwd', 'size_compact', 'size_full-size', 'size_mid-size', 'size_sub-compact', 'type_SUV', 'type_bus', 'type_convertible', 'type_coupe', 'type_hatchback', 'type_mini-van', 'type_offroad', 'type_pickup', 'type_sedan', 'type_truck', 'type_van', 'type_wagon', 'paint_color_black', 'paint_color_blue', 'paint_color_brown', 'paint_color_custom', 'paint_color_green', 'paint_color_grey', 'paint_color_red', 'paint_color_silver', 'paint_color_white', 'paint_color_yellow', 'state_ak', 'state_ca', 'state_co', 'state_fl', 'state_ga', 'state_hi', 'state_id', 'state_in', 'state_ky', 'state_md', 'state_mi', 'state_mo', 'state_mt', 'state_nc', 'state_nj', 'state_nv', 'state_ny', 'state_oh', 'state_sc', 'state_tn', 'state_tx', 'state_va', 'state_vt', 'state_wi']]\n"
     ]
    }
   ],
   "source": [
    "print(carfeature_sets)"
   ]
  },
  {
   "cell_type": "code",
   "execution_count": 20,
   "metadata": {},
   "outputs": [],
   "source": [
    "from sklearn.linear_model import LogisticRegression\n",
    "from sklearn.model_selection import train_test_split\n",
    "from sklearn.metrics import accuracy_score\n",
    "from sklearn.ensemble import RandomForestClassifier\n",
    "# Authors: The scikit-learn developers\n",
    "# SPDX-License-Identifier: BSD-3-Clause\n",
    "from sklearn.impute import SimpleImputer\n",
    "from sklearn.ensemble import RandomForestRegressor\n",
    "from sklearn.model_selection import cross_val_score\n",
    "from sklearn.pipeline import make_pipeline"
   ]
  },
  {
   "cell_type": "markdown",
   "metadata": {},
   "source": [
    "### TRIED BUT NOT USED DUE TO  CONTINUOUS CATEGORICAL VALUES NOT SUPPORTED\n",
    "N_SPLITS = 4\n",
    "def get_score(X, y, imputer=None):\n",
    "    regressor =    RandomForestRegressor(random_state=0)\n",
    "    if imputer is not None:\n",
    "        estimator = make_pipeline(imputer, regressor)\n",
    "    else:\n",
    "        estimator = regressor\n",
    "    scores = cross_val_score(\n",
    "        estimator, X, y, scoring=\"neg_mean_squared_error\", cv=N_SPLITS\n",
    "    )\n",
    "    return scores.mean(), scores.std()\n",
    "\n",
    "\n",
    "#imputer = SimpleImputer(strategy=\"constant\", fill_value=0, add_indicator=True)\n",
    "#X[1], y[1] = get_score(X, y, imputer)"
   ]
  },
  {
   "cell_type": "code",
   "execution_count": 23,
   "metadata": {},
   "outputs": [],
   "source": [
    "#model = LogisticRegression(solver='liblinear')\n",
    "model = RandomForestClassifier(n_estimators=100, random_state=42)"
   ]
  },
  {
   "cell_type": "code",
   "execution_count": 50,
   "metadata": {},
   "outputs": [
    {
     "name": "stdout",
     "output_type": "stream",
     "text": [
      "Feature Set 4 Accuracy: 0.7414  with features: ['id', 'odometer', 'region_anchorage / mat-su', 'region_asheville', 'region_baltimore', 'region_battle creek', 'region_billings', 'region_boise', 'region_brownsville', 'region_buffalo', 'region_central NJ', 'region_charleston', 'region_charlotte', 'region_cleveland', 'region_columbus', 'region_corpus christi', 'region_denver', 'region_fayetteville', 'region_fort collins / north CO', 'region_ft myers / SW florida', 'region_greensboro', 'region_greenville / upstate', 'region_hawaii', 'region_indianapolis', 'region_jacksonville', 'region_kalispell', 'region_knoxville', 'region_las vegas', 'region_long island', 'region_louisville', 'region_madison', 'region_missoula', 'region_modesto', 'region_myrtle beach', 'region_nashville', 'region_ocala', 'region_orlando', 'region_palm springs', 'region_raleigh / durham / CH', 'region_redding', 'region_roanoke', 'region_rochester', 'region_san diego', 'region_sarasota-bradenton', 'region_south bend / michiana', 'region_south florida', 'region_south jersey', 'region_southwest VA', 'region_space coast', 'region_springfield', 'region_st augustine', 'region_st joseph', 'region_stockton', 'region_tampa bay area', 'region_treasure coast', 'region_valdosta', 'region_ventura county', 'region_vermont', 'region_wilmington', 'region_winchester', 'region_winston-salem', 'manufacturer_audi', 'manufacturer_buick', 'manufacturer_cadillac', 'manufacturer_chevrolet', 'manufacturer_dodge', 'manufacturer_ford', 'manufacturer_gmc', 'manufacturer_honda', 'manufacturer_hyundai', 'manufacturer_infiniti', 'manufacturer_jeep', 'manufacturer_lexus', 'manufacturer_lincoln', 'manufacturer_mercedes-benz', 'manufacturer_mitsubishi', 'manufacturer_nissan', 'manufacturer_porsche', 'manufacturer_ram', 'manufacturer_subaru', 'manufacturer_toyota', 'manufacturer_volkswagen', 'model_1500', 'model_1500 reg cab st', 'model_1500 slt', 'model_2500 4x4 megacab', 'model_350z convertible', 'model_a5', 'model_accord cpe', 'model_altima s 2.5', 'model_boxster', 'model_bus', 'model_camry', 'model_cherokee', 'model_civic sedan', 'model_corvette', 'model_cr-v', 'model_e-150', 'model_e-150 transit', 'model_e-class', 'model_e350 econoline cargo', 'model_edge 4dr se', 'model_edge sel', 'model_elantra', 'model_enclave', 'model_equinox', 'model_es350', 'model_escape', 'model_escape xls', 'model_express 3500', 'model_f-150', 'model_f-150 4x4 supercab', 'model_f-150 xlt', 'model_f150 supercab stx 4x4', 'model_f150 supercrew fx4', 'model_f150 xlt 4x4', 'model_f150 xlt supercrew 4x4', 'model_f250 super duty', 'model_f250sd', 'model_f350 super duty', 'model_f450sd', 'model_fiesta se', 'model_forester', 'model_frontier king cab sv', 'model_fusion sel', 'model_gl-class', 'model_gls550', 'model_grand caravan', 'model_grand cherokee', 'model_grand cherokee limited', 'model_gti', 'model_highlander', 'model_impala', 'model_impreza', 'model_is 250', 'model_journey', 'model_kona', 'model_land cruiser', 'model_leaf s hatchback 4d', 'model_liberty 4x4', 'model_mkz', 'model_mustang', 'model_outback', 'model_outlander', 'model_outlander sport', 'model_panamera turbo', 'model_pathfinder', 'model_pilot', 'model_q5', 'model_qx56', 'model_rav4', 'model_ridgeline', 'model_rogue', 'model_rogue sv', 'model_routan se', 'model_safari', 'model_savana cutaway', 'model_sentra', 'model_sentra sv sedan 4d', 'model_sierra 2500hd', 'model_silverado', 'model_silverado 1500 4x4', 'model_silverado 1500 lt 4x4', 'model_silverado 3500hd', 'model_srx', 'model_srx luxury collection', 'model_super duty f-250 srw', 'model_super duty f-350 srw', 'model_super duty f-550 drw', 'model_tacoma', 'model_tacoma sr5', 'model_terrain', 'model_titan', 'model_transit cargo van', 'model_traverse', 'model_tundra sr5 4x4', 'model_veloster', 'model_venza', 'model_wrangler', 'year_1997.0', 'year_2003.0', 'year_2004.0', 'year_2005.0', 'year_2006.0', 'year_2007.0', 'year_2008.0', 'year_2009.0', 'year_2010.0', 'year_2011.0', 'year_2012.0', 'year_2013.0', 'year_2014.0', 'year_2015.0', 'year_2016.0', 'year_2017.0', 'year_2018.0', 'year_2019.0', 'year_2020.0', 'year_2021.0', 'condition_excellent', 'condition_good', 'condition_like new', 'condition_new', 'cylinders_10 cylinders', 'cylinders_4 cylinders', 'cylinders_6 cylinders', 'cylinders_8 cylinders', 'cylinders_other', 'fuel_diesel', 'fuel_electric', 'fuel_gas', 'title_status_clean', 'title_status_rebuilt', 'transmission_automatic', 'transmission_manual', 'transmission_other', 'drive_4wd', 'drive_fwd', 'drive_rwd', 'size_compact', 'size_full-size', 'size_mid-size', 'size_sub-compact', 'type_SUV', 'type_bus', 'type_convertible', 'type_coupe', 'type_hatchback', 'type_mini-van', 'type_offroad', 'type_pickup', 'type_sedan', 'type_truck', 'type_van', 'type_wagon', 'paint_color_black', 'paint_color_blue', 'paint_color_brown', 'paint_color_custom', 'paint_color_green', 'paint_color_grey', 'paint_color_red', 'paint_color_silver', 'paint_color_white', 'paint_color_yellow', 'state_ak', 'state_ca', 'state_co', 'state_fl', 'state_ga', 'state_hi', 'state_id', 'state_in', 'state_ky', 'state_md', 'state_mi', 'state_mo', 'state_mt', 'state_nc', 'state_nj', 'state_nv', 'state_ny', 'state_oh', 'state_sc', 'state_tn', 'state_tx', 'state_va', 'state_vt', 'state_wi']\n"
     ]
    }
   ],
   "source": [
    "accuracy = {}\n",
    "for i, features in enumerate(carfeature_sets):\n",
    "    X_subset = X[features]\n",
    "    X_train, X_test, y_train, y_test = train_test_split(X_subset, y, test_size=0.2, random_state=42)\n",
    "\n",
    "    model.fit(X_train, y_train)\n",
    "    y_pred = model.predict(X_test)\n",
    " # Convert continuous predictions to binary using a threshold (e.g., 0.5)\n",
    "    threshold = 0.5\n",
    "    y_pred_binary = (y_pred >= threshold).astype(int)\n",
    "\n",
    "\n",
    "    accuracy[i] = [features,accuracy_score(y_test, y_pred)]\n",
    "print(f\"Feature Set {i+1} Accuracy: {accuracy[i][1]:.4f}  with features: {accuracy[i][0]}\")\n",
    "    "
   ]
  },
  {
   "cell_type": "code",
   "execution_count": 24,
   "metadata": {},
   "outputs": [],
   "source": []
  },
  {
   "cell_type": "markdown",
   "metadata": {},
   "source": [
    "### Evaluation\n",
    "\n",
    "With some modeling accomplished, we aim to reflect on what we identify as a high-quality model and what we are able to learn from this.  We should review our business objective and explore how well we can provide meaningful insight into drivers of used car prices.  Your goal now is to distill your findings and determine whether the earlier phases need revisitation and adjustment or if you have information of value to bring back to your client."
   ]
  },
  {
   "cell_type": "markdown",
   "metadata": {},
   "source": [
    "## VERIFYING Accuracy results to evaluate which features provide accurate or proper result"
   ]
  },
  {
   "cell_type": "markdown",
   "metadata": {},
   "source": [
    "### Identified the 4th feature with all of the features came closer"
   ]
  },
  {
   "cell_type": "markdown",
   "metadata": {},
   "source": [
    "### Having the Odometer identifying the record uniquley and brings the Accuracy to close to the actual value"
   ]
  },
  {
   "cell_type": "code",
   "execution_count": 66,
   "metadata": {},
   "outputs": [],
   "source": [
    "carfeature_limtd_sets = [\n",
    "    [col for col in X.columns if 'odometer' in col or 'model' in col or'year' in col or 'cylinders' in col or 'condition' in col],\n",
    "    [col for col in X.columns if 'odometer' in col or 'model' in col or 'year' in col or 'condition' in col ],\n",
    "    [col for col in X.columns if 'odometer' in col or 'region' in col or 'manufacturer' in col or 'model' in col or 'year' in col or 'condition' in col ], # Example: all region/manufacturer features\n",
    "    [col for col in X.columns if 'id' in col or 'odometer' in col or 'region' in col or 'manufacturer' in col or 'model' in col or 'year' in col or 'condition' in col or 'cylinders' in col or 'fuel' in col or 'title_status' in col or 'transmission' in col or 'drive' in col or 'size' in col or 'type'  in col or 'state'in col or 'paint'in col]\n",
    "]"
   ]
  },
  {
   "cell_type": "code",
   "execution_count": 67,
   "metadata": {},
   "outputs": [
    {
     "name": "stdout",
     "output_type": "stream",
     "text": [
      "Feature Set 1 Accuracy: 0.9784  with features: ['odometer', 'model_1500', 'model_1500 reg cab st', 'model_1500 slt', 'model_2500 4x4 megacab', 'model_350z convertible', 'model_a5', 'model_accord cpe', 'model_altima s 2.5', 'model_boxster', 'model_bus', 'model_camry', 'model_cherokee', 'model_civic sedan', 'model_corvette', 'model_cr-v', 'model_e-150', 'model_e-150 transit', 'model_e-class', 'model_e350 econoline cargo', 'model_edge 4dr se', 'model_edge sel', 'model_elantra', 'model_enclave', 'model_equinox', 'model_es350', 'model_escape', 'model_escape xls', 'model_express 3500', 'model_f-150', 'model_f-150 4x4 supercab', 'model_f-150 xlt', 'model_f150 supercab stx 4x4', 'model_f150 supercrew fx4', 'model_f150 xlt 4x4', 'model_f150 xlt supercrew 4x4', 'model_f250 super duty', 'model_f250sd', 'model_f350 super duty', 'model_f450sd', 'model_fiesta se', 'model_forester', 'model_frontier king cab sv', 'model_fusion sel', 'model_gl-class', 'model_gls550', 'model_grand caravan', 'model_grand cherokee', 'model_grand cherokee limited', 'model_gti', 'model_highlander', 'model_impala', 'model_impreza', 'model_is 250', 'model_journey', 'model_kona', 'model_land cruiser', 'model_leaf s hatchback 4d', 'model_liberty 4x4', 'model_mkz', 'model_mustang', 'model_outback', 'model_outlander', 'model_outlander sport', 'model_panamera turbo', 'model_pathfinder', 'model_pilot', 'model_q5', 'model_qx56', 'model_rav4', 'model_ridgeline', 'model_rogue', 'model_rogue sv', 'model_routan se', 'model_safari', 'model_savana cutaway', 'model_sentra', 'model_sentra sv sedan 4d', 'model_sierra 2500hd', 'model_silverado', 'model_silverado 1500 4x4', 'model_silverado 1500 lt 4x4', 'model_silverado 3500hd', 'model_srx', 'model_srx luxury collection', 'model_super duty f-250 srw', 'model_super duty f-350 srw', 'model_super duty f-550 drw', 'model_tacoma', 'model_tacoma sr5', 'model_terrain', 'model_titan', 'model_transit cargo van', 'model_traverse', 'model_tundra sr5 4x4', 'model_veloster', 'model_venza', 'model_wrangler', 'year_1997.0', 'year_2003.0', 'year_2004.0', 'year_2005.0', 'year_2006.0', 'year_2007.0', 'year_2008.0', 'year_2009.0', 'year_2010.0', 'year_2011.0', 'year_2012.0', 'year_2013.0', 'year_2014.0', 'year_2015.0', 'year_2016.0', 'year_2017.0', 'year_2018.0', 'year_2019.0', 'year_2020.0', 'year_2021.0', 'condition_excellent', 'condition_good', 'condition_like new', 'condition_new', 'cylinders_10 cylinders', 'cylinders_4 cylinders', 'cylinders_6 cylinders', 'cylinders_8 cylinders', 'cylinders_other']\n",
      "Feature Set 2 Accuracy: 0.9784  with features: ['odometer', 'model_1500', 'model_1500 reg cab st', 'model_1500 slt', 'model_2500 4x4 megacab', 'model_350z convertible', 'model_a5', 'model_accord cpe', 'model_altima s 2.5', 'model_boxster', 'model_bus', 'model_camry', 'model_cherokee', 'model_civic sedan', 'model_corvette', 'model_cr-v', 'model_e-150', 'model_e-150 transit', 'model_e-class', 'model_e350 econoline cargo', 'model_edge 4dr se', 'model_edge sel', 'model_elantra', 'model_enclave', 'model_equinox', 'model_es350', 'model_escape', 'model_escape xls', 'model_express 3500', 'model_f-150', 'model_f-150 4x4 supercab', 'model_f-150 xlt', 'model_f150 supercab stx 4x4', 'model_f150 supercrew fx4', 'model_f150 xlt 4x4', 'model_f150 xlt supercrew 4x4', 'model_f250 super duty', 'model_f250sd', 'model_f350 super duty', 'model_f450sd', 'model_fiesta se', 'model_forester', 'model_frontier king cab sv', 'model_fusion sel', 'model_gl-class', 'model_gls550', 'model_grand caravan', 'model_grand cherokee', 'model_grand cherokee limited', 'model_gti', 'model_highlander', 'model_impala', 'model_impreza', 'model_is 250', 'model_journey', 'model_kona', 'model_land cruiser', 'model_leaf s hatchback 4d', 'model_liberty 4x4', 'model_mkz', 'model_mustang', 'model_outback', 'model_outlander', 'model_outlander sport', 'model_panamera turbo', 'model_pathfinder', 'model_pilot', 'model_q5', 'model_qx56', 'model_rav4', 'model_ridgeline', 'model_rogue', 'model_rogue sv', 'model_routan se', 'model_safari', 'model_savana cutaway', 'model_sentra', 'model_sentra sv sedan 4d', 'model_sierra 2500hd', 'model_silverado', 'model_silverado 1500 4x4', 'model_silverado 1500 lt 4x4', 'model_silverado 3500hd', 'model_srx', 'model_srx luxury collection', 'model_super duty f-250 srw', 'model_super duty f-350 srw', 'model_super duty f-550 drw', 'model_tacoma', 'model_tacoma sr5', 'model_terrain', 'model_titan', 'model_transit cargo van', 'model_traverse', 'model_tundra sr5 4x4', 'model_veloster', 'model_venza', 'model_wrangler', 'year_1997.0', 'year_2003.0', 'year_2004.0', 'year_2005.0', 'year_2006.0', 'year_2007.0', 'year_2008.0', 'year_2009.0', 'year_2010.0', 'year_2011.0', 'year_2012.0', 'year_2013.0', 'year_2014.0', 'year_2015.0', 'year_2016.0', 'year_2017.0', 'year_2018.0', 'year_2019.0', 'year_2020.0', 'year_2021.0', 'condition_excellent', 'condition_good', 'condition_like new', 'condition_new']\n",
      "Feature Set 3 Accuracy: 0.9784  with features: ['odometer', 'region_anchorage / mat-su', 'region_asheville', 'region_baltimore', 'region_battle creek', 'region_billings', 'region_boise', 'region_brownsville', 'region_buffalo', 'region_central NJ', 'region_charleston', 'region_charlotte', 'region_cleveland', 'region_columbus', 'region_corpus christi', 'region_denver', 'region_fayetteville', 'region_fort collins / north CO', 'region_ft myers / SW florida', 'region_greensboro', 'region_greenville / upstate', 'region_hawaii', 'region_indianapolis', 'region_jacksonville', 'region_kalispell', 'region_knoxville', 'region_las vegas', 'region_long island', 'region_louisville', 'region_madison', 'region_missoula', 'region_modesto', 'region_myrtle beach', 'region_nashville', 'region_ocala', 'region_orlando', 'region_palm springs', 'region_raleigh / durham / CH', 'region_redding', 'region_roanoke', 'region_rochester', 'region_san diego', 'region_sarasota-bradenton', 'region_south bend / michiana', 'region_south florida', 'region_south jersey', 'region_southwest VA', 'region_space coast', 'region_springfield', 'region_st augustine', 'region_st joseph', 'region_stockton', 'region_tampa bay area', 'region_treasure coast', 'region_valdosta', 'region_ventura county', 'region_vermont', 'region_wilmington', 'region_winchester', 'region_winston-salem', 'manufacturer_audi', 'manufacturer_buick', 'manufacturer_cadillac', 'manufacturer_chevrolet', 'manufacturer_dodge', 'manufacturer_ford', 'manufacturer_gmc', 'manufacturer_honda', 'manufacturer_hyundai', 'manufacturer_infiniti', 'manufacturer_jeep', 'manufacturer_lexus', 'manufacturer_lincoln', 'manufacturer_mercedes-benz', 'manufacturer_mitsubishi', 'manufacturer_nissan', 'manufacturer_porsche', 'manufacturer_ram', 'manufacturer_subaru', 'manufacturer_toyota', 'manufacturer_volkswagen', 'model_1500', 'model_1500 reg cab st', 'model_1500 slt', 'model_2500 4x4 megacab', 'model_350z convertible', 'model_a5', 'model_accord cpe', 'model_altima s 2.5', 'model_boxster', 'model_bus', 'model_camry', 'model_cherokee', 'model_civic sedan', 'model_corvette', 'model_cr-v', 'model_e-150', 'model_e-150 transit', 'model_e-class', 'model_e350 econoline cargo', 'model_edge 4dr se', 'model_edge sel', 'model_elantra', 'model_enclave', 'model_equinox', 'model_es350', 'model_escape', 'model_escape xls', 'model_express 3500', 'model_f-150', 'model_f-150 4x4 supercab', 'model_f-150 xlt', 'model_f150 supercab stx 4x4', 'model_f150 supercrew fx4', 'model_f150 xlt 4x4', 'model_f150 xlt supercrew 4x4', 'model_f250 super duty', 'model_f250sd', 'model_f350 super duty', 'model_f450sd', 'model_fiesta se', 'model_forester', 'model_frontier king cab sv', 'model_fusion sel', 'model_gl-class', 'model_gls550', 'model_grand caravan', 'model_grand cherokee', 'model_grand cherokee limited', 'model_gti', 'model_highlander', 'model_impala', 'model_impreza', 'model_is 250', 'model_journey', 'model_kona', 'model_land cruiser', 'model_leaf s hatchback 4d', 'model_liberty 4x4', 'model_mkz', 'model_mustang', 'model_outback', 'model_outlander', 'model_outlander sport', 'model_panamera turbo', 'model_pathfinder', 'model_pilot', 'model_q5', 'model_qx56', 'model_rav4', 'model_ridgeline', 'model_rogue', 'model_rogue sv', 'model_routan se', 'model_safari', 'model_savana cutaway', 'model_sentra', 'model_sentra sv sedan 4d', 'model_sierra 2500hd', 'model_silverado', 'model_silverado 1500 4x4', 'model_silverado 1500 lt 4x4', 'model_silverado 3500hd', 'model_srx', 'model_srx luxury collection', 'model_super duty f-250 srw', 'model_super duty f-350 srw', 'model_super duty f-550 drw', 'model_tacoma', 'model_tacoma sr5', 'model_terrain', 'model_titan', 'model_transit cargo van', 'model_traverse', 'model_tundra sr5 4x4', 'model_veloster', 'model_venza', 'model_wrangler', 'year_1997.0', 'year_2003.0', 'year_2004.0', 'year_2005.0', 'year_2006.0', 'year_2007.0', 'year_2008.0', 'year_2009.0', 'year_2010.0', 'year_2011.0', 'year_2012.0', 'year_2013.0', 'year_2014.0', 'year_2015.0', 'year_2016.0', 'year_2017.0', 'year_2018.0', 'year_2019.0', 'year_2020.0', 'year_2021.0', 'condition_excellent', 'condition_good', 'condition_like new', 'condition_new']\n",
      "Feature Set 4 Accuracy: 0.7414  with features: ['id', 'odometer', 'region_anchorage / mat-su', 'region_asheville', 'region_baltimore', 'region_battle creek', 'region_billings', 'region_boise', 'region_brownsville', 'region_buffalo', 'region_central NJ', 'region_charleston', 'region_charlotte', 'region_cleveland', 'region_columbus', 'region_corpus christi', 'region_denver', 'region_fayetteville', 'region_fort collins / north CO', 'region_ft myers / SW florida', 'region_greensboro', 'region_greenville / upstate', 'region_hawaii', 'region_indianapolis', 'region_jacksonville', 'region_kalispell', 'region_knoxville', 'region_las vegas', 'region_long island', 'region_louisville', 'region_madison', 'region_missoula', 'region_modesto', 'region_myrtle beach', 'region_nashville', 'region_ocala', 'region_orlando', 'region_palm springs', 'region_raleigh / durham / CH', 'region_redding', 'region_roanoke', 'region_rochester', 'region_san diego', 'region_sarasota-bradenton', 'region_south bend / michiana', 'region_south florida', 'region_south jersey', 'region_southwest VA', 'region_space coast', 'region_springfield', 'region_st augustine', 'region_st joseph', 'region_stockton', 'region_tampa bay area', 'region_treasure coast', 'region_valdosta', 'region_ventura county', 'region_vermont', 'region_wilmington', 'region_winchester', 'region_winston-salem', 'manufacturer_audi', 'manufacturer_buick', 'manufacturer_cadillac', 'manufacturer_chevrolet', 'manufacturer_dodge', 'manufacturer_ford', 'manufacturer_gmc', 'manufacturer_honda', 'manufacturer_hyundai', 'manufacturer_infiniti', 'manufacturer_jeep', 'manufacturer_lexus', 'manufacturer_lincoln', 'manufacturer_mercedes-benz', 'manufacturer_mitsubishi', 'manufacturer_nissan', 'manufacturer_porsche', 'manufacturer_ram', 'manufacturer_subaru', 'manufacturer_toyota', 'manufacturer_volkswagen', 'model_1500', 'model_1500 reg cab st', 'model_1500 slt', 'model_2500 4x4 megacab', 'model_350z convertible', 'model_a5', 'model_accord cpe', 'model_altima s 2.5', 'model_boxster', 'model_bus', 'model_camry', 'model_cherokee', 'model_civic sedan', 'model_corvette', 'model_cr-v', 'model_e-150', 'model_e-150 transit', 'model_e-class', 'model_e350 econoline cargo', 'model_edge 4dr se', 'model_edge sel', 'model_elantra', 'model_enclave', 'model_equinox', 'model_es350', 'model_escape', 'model_escape xls', 'model_express 3500', 'model_f-150', 'model_f-150 4x4 supercab', 'model_f-150 xlt', 'model_f150 supercab stx 4x4', 'model_f150 supercrew fx4', 'model_f150 xlt 4x4', 'model_f150 xlt supercrew 4x4', 'model_f250 super duty', 'model_f250sd', 'model_f350 super duty', 'model_f450sd', 'model_fiesta se', 'model_forester', 'model_frontier king cab sv', 'model_fusion sel', 'model_gl-class', 'model_gls550', 'model_grand caravan', 'model_grand cherokee', 'model_grand cherokee limited', 'model_gti', 'model_highlander', 'model_impala', 'model_impreza', 'model_is 250', 'model_journey', 'model_kona', 'model_land cruiser', 'model_leaf s hatchback 4d', 'model_liberty 4x4', 'model_mkz', 'model_mustang', 'model_outback', 'model_outlander', 'model_outlander sport', 'model_panamera turbo', 'model_pathfinder', 'model_pilot', 'model_q5', 'model_qx56', 'model_rav4', 'model_ridgeline', 'model_rogue', 'model_rogue sv', 'model_routan se', 'model_safari', 'model_savana cutaway', 'model_sentra', 'model_sentra sv sedan 4d', 'model_sierra 2500hd', 'model_silverado', 'model_silverado 1500 4x4', 'model_silverado 1500 lt 4x4', 'model_silverado 3500hd', 'model_srx', 'model_srx luxury collection', 'model_super duty f-250 srw', 'model_super duty f-350 srw', 'model_super duty f-550 drw', 'model_tacoma', 'model_tacoma sr5', 'model_terrain', 'model_titan', 'model_transit cargo van', 'model_traverse', 'model_tundra sr5 4x4', 'model_veloster', 'model_venza', 'model_wrangler', 'year_1997.0', 'year_2003.0', 'year_2004.0', 'year_2005.0', 'year_2006.0', 'year_2007.0', 'year_2008.0', 'year_2009.0', 'year_2010.0', 'year_2011.0', 'year_2012.0', 'year_2013.0', 'year_2014.0', 'year_2015.0', 'year_2016.0', 'year_2017.0', 'year_2018.0', 'year_2019.0', 'year_2020.0', 'year_2021.0', 'condition_excellent', 'condition_good', 'condition_like new', 'condition_new', 'cylinders_10 cylinders', 'cylinders_4 cylinders', 'cylinders_6 cylinders', 'cylinders_8 cylinders', 'cylinders_other', 'fuel_diesel', 'fuel_electric', 'fuel_gas', 'title_status_clean', 'title_status_rebuilt', 'transmission_automatic', 'transmission_manual', 'transmission_other', 'drive_4wd', 'drive_fwd', 'drive_rwd', 'size_compact', 'size_full-size', 'size_mid-size', 'size_sub-compact', 'type_SUV', 'type_bus', 'type_convertible', 'type_coupe', 'type_hatchback', 'type_mini-van', 'type_offroad', 'type_pickup', 'type_sedan', 'type_truck', 'type_van', 'type_wagon', 'paint_color_black', 'paint_color_blue', 'paint_color_brown', 'paint_color_custom', 'paint_color_green', 'paint_color_grey', 'paint_color_red', 'paint_color_silver', 'paint_color_white', 'paint_color_yellow', 'state_ak', 'state_ca', 'state_co', 'state_fl', 'state_ga', 'state_hi', 'state_id', 'state_in', 'state_ky', 'state_md', 'state_mi', 'state_mo', 'state_mt', 'state_nc', 'state_nj', 'state_nv', 'state_ny', 'state_oh', 'state_sc', 'state_tn', 'state_tx', 'state_va', 'state_vt', 'state_wi']\n"
     ]
    }
   ],
   "source": [
    "lmtd_featrs_accuracy = {}\n",
    "for i, features in enumerate(carfeature_limtd_sets):\n",
    "    X_subset = X[features]\n",
    "    X_train, X_test, y_train, y_test = train_test_split(X_subset, y, test_size=0.2, random_state=42)\n",
    "\n",
    "    model.fit(X_train, y_train)\n",
    "    y_pred = model.predict(X_test)\n",
    " # Convert continuous predictions to binary using a threshold (e.g., 0.5)\n",
    "    threshold = 0.5\n",
    "    y_pred_binary = (y_pred >= threshold).astype(int)\n",
    "\n",
    "\n",
    "    lmtd_featrs_accuracy[i] = [features,accuracy_score(y_test, y_pred)]\n",
    "    print(f\"Feature Set {i+1} Accuracy: {lmtd_featrs_accuracy[i][1]:.4f}  with features: {lmtd_featrs_accuracy[i][0]}\")\n",
    "    "
   ]
  },
  {
   "cell_type": "markdown",
   "metadata": {},
   "source": []
  },
  {
   "cell_type": "code",
   "execution_count": null,
   "metadata": {},
   "outputs": [],
   "source": []
  },
  {
   "cell_type": "code",
   "execution_count": null,
   "metadata": {},
   "outputs": [],
   "source": []
  },
  {
   "cell_type": "markdown",
   "metadata": {},
   "source": [
    "### Deployment\n",
    "\n",
    "Now that we've settled on our models and findings, it is time to deliver the information to the client.  You should organize your work as a basic report that details your primary findings.  Keep in mind that your audience is a group of used car dealers interested in fine-tuning their inventory."
   ]
  },
  {
   "cell_type": "markdown",
   "metadata": {},
   "source": [
    "## FINDING \n",
    "### Having the odometer value may probably provide the closest value to real values reported\n",
    "#### projecting price with the odometer may provide the probable value to customers"
   ]
  },
  {
   "cell_type": "code",
   "execution_count": null,
   "metadata": {},
   "outputs": [],
   "source": []
  },
  {
   "cell_type": "code",
   "execution_count": null,
   "metadata": {},
   "outputs": [],
   "source": []
  },
  {
   "cell_type": "code",
   "execution_count": null,
   "metadata": {},
   "outputs": [],
   "source": []
  },
  {
   "cell_type": "code",
   "execution_count": null,
   "metadata": {},
   "outputs": [],
   "source": []
  },
  {
   "cell_type": "code",
   "execution_count": null,
   "metadata": {},
   "outputs": [],
   "source": []
  },
  {
   "cell_type": "code",
   "execution_count": null,
   "metadata": {},
   "outputs": [],
   "source": []
  }
 ],
 "metadata": {
  "kernelspec": {
   "display_name": "Python 3 (ipykernel)",
   "language": "python",
   "name": "python3"
  },
  "language_info": {
   "codemirror_mode": {
    "name": "ipython",
    "version": 3
   },
   "file_extension": ".py",
   "mimetype": "text/x-python",
   "name": "python",
   "nbconvert_exporter": "python",
   "pygments_lexer": "ipython3",
   "version": "3.12.7"
  },
  "widgets": {
   "application/vnd.jupyter.widget-state+json": {
    "state": {},
    "version_major": 2,
    "version_minor": 0
   }
  }
 },
 "nbformat": 4,
 "nbformat_minor": 4
}
